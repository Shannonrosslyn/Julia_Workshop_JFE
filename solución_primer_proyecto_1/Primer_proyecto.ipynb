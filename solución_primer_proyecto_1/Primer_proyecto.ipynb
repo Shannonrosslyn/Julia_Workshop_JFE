{
 "cells": [
  {
   "cell_type": "markdown",
   "metadata": {},
   "source": [
    "# Primer proyecto"
   ]
  },
  {
   "cell_type": "markdown",
   "metadata": {},
   "source": [
    "\n",
    "## Marco teórico\n",
    "Se escribirá un código para visualizar diferentes familias del conjunto de Julia y Mandelbrot, en el proceso se modelarán diversas formas biológicas. Ambos conjuntos se forman a partir del estudio de ciertas funciones, $f_c$, sobre las cuales se iteran los números complejos. La notación para la función, $f_c$, denota que ésta depende de un parámetro $c \\in C$.\n",
    "\n",
    "El conjunto de Julia $J_{f_c}$, para una constante $c$ particular, está formado por todos aquellos puntos del plano complejo en el cual la sucesión siguiente es acotada:\n",
    "\n",
    "$$z_0=z$$\n",
    "$$z_{n+1}=f_c(z_n)$$\n",
    "\n",
    "\n",
    "El conjunto de Mandelbrot $M_{f_c}$, de forma similar, está formado por el conjunto de puntos del plano complejo, en el cual $c$ pertenece al conjunto si la siguiente sucesión es acotada:\n",
    "\n",
    "$$z_0=0$$\n",
    "$$z_{n+1}=f_c(z_n)$$\n",
    "\n",
    "El conjunto de puntos que resulta de la sucesión, para cada $z$ implicado, se conoce como la órbita de $z$ por $f_c$. Para determinar los elementos de una familia del conjunto de $J_{f_c}$ y $M_{f_c}$, se utiliza un método iterativo, verificando el criterio convergencia siguiente, en cada paso de la iteración donde se obtiene un elemento de la órbita:\n",
    "\n",
    "$$|z_n|<2$$\n",
    "\n",
    "Si en algún punto de la iteración no se cumple el criterio, el punto del plano complejo analizado no pertenece al conjunto. \n",
    "\n",
    "El conjunto de Julia y Mandelbrot están dados por una familia muy popular de sistemas dinámicos complejos, esto es la familia de polinomios cuadráticos complejos:\n",
    "\n",
    "$$f_c=z^2+c$$\n",
    "\n",
    "Formas biológicas han sido representadas mediante procesos iterativos, como el descrito anteriormente. Pero, empleando un conjunto de funciones $(f_c)$ más complejas que las estudiadas en los conjuntos de Julia y Mandelbrot. A continuación, se listan algunas de las funciones usadas para reproducir formas biológicas:\n",
    "\n",
    "$$f_1(z,c)=\\sin(z)+z^2+c$$\n",
    "$$f_2(z,c)=z^z+z^6+c$$\n",
    "$$f_3(z,c)=z^z+z^6+c$$\n",
    "$$f_4(z,c)=z^5+c$$\n",
    "$$f_5(z,c)=z^3+c$$\n",
    "\n",
    "La iteración es realizada hasta que la magnitud de la componente real e imaginaria de los elementos de la órbita sobrepasa un determinado valor $\\tau$ (un valor puede ser $\\tau=100$), esto significa que el proceso iterativo se mentiene mientras se cumpla que la parte real o imaginaria satisfacen la condición:\n",
    "\n",
    "$$|Re(z_n)|<\\tau$$ \n",
    "\n",
    "$$|Im(z_n)|<\\tau$$\n",
    "\n",
    "Una manera de graficar los conjuntos de Julia, Mandelbrot y las formas biológicas, es graficar solamente los puntos que pertenecen al conjunto con un color determinado (monocromático). \n",
    "\n",
    "Para agregar colores a los gráficos, generalmente se utiliza el algoritmo de: Tiempo de Escape, aunque no es el único. El algoritmo consiste en asignar un color dependiendo del número de iteraciones realizadas antes que el elemento de la órbita no satisfaga el criterio de convergencia. De esta manera se visualiza aquellos elementos que pertenecen al conjunto y los que no, además, revela la velocidad de divergencia de la órbita en cada punto. \n",
    "\n",
    "### Requisitos\n",
    "Para el desarrollo del proyecto deberá utilizar solamente los elementos abarcados en la primera semana del workshop, esto es, el uso de: estructuras de datos y control, tipos de datos primitivos del lenguaje. Por lo que **no utilizará** ningún paquete adicional, creado o desarrollado por la comunidad de Julia, a excepción del paquete Plots.\n",
    "\n",
    "Para completar este proyecto deberá realizar los siguientes items:\n",
    "1. Graficar un conjunto de Julia, para un $c$ arbitrario (monocromático). \n",
    "2. Graficar el conjunto de Mandelbrot (monocromático).\n",
    "3. Graficar una forma biológica, par un c arbitrario (monocromático).\n",
    "4. Hacer una gráfica a color del conjunto de Mandelbrot usando el algoritmo de Tiempo de Escape.\n",
    "5. Realizar una gráfica a color para un conjunto de Julia, para un $c$ arbitrario .\n",
    "6. Realizar una gráfica a color para una forma biológica.\n",
    "\n",
    "Para realizar las gráficas, deberá tomar en cuenta el uso de 'structs' para representar estructuras de datos particulares y también el uso de 'multiple dispatch'. \n",
    "\n",
    "### Criterios de Evaluación\n",
    "Durante la evaluación del proyecto se tomarán en cuenta los siguientes aspectos:\n",
    "- Cumplimiento de los requerimientos mencionados.\n",
    "- Claridad y orden el código presentado.\n",
    "- Completitud del proyecto, haciendo todas las partes que lo componen.\n",
    "- Analizar y comentar el trabajo de otros grupos (Mediante el peer review).\n",
    "\n"
   ]
  },
  {
   "cell_type": "markdown",
   "metadata": {},
   "source": [
    "\n",
    "## Bosquejo\n",
    "### Gráficas\n",
    "Para realizar las gráficas se utilizará el paquete Plots, por lo tanto el paquete debe ser importado:\n",
    "\n"
   ]
  },
  {
   "cell_type": "code",
   "execution_count": null,
   "metadata": {},
   "outputs": [],
   "source": [
    "using Plots"
   ]
  },
  {
   "cell_type": "markdown",
   "metadata": {},
   "source": [
    "\n",
    "Para el mapa de calor, se necesita hacer una malla (las listas 'x' y 'y' del ejemplo anterior) y una matriz donde se guardan los valores que definen el color para cada punto de la malla.\n",
    "\n",
    "### Pseudocódigo\n",
    "Para clarificar los pasos a realizar, se muestra el siguiente algoritmo, cuando se desee obtener un gráfico con colores:\n",
    "\n",
    "*NOTAS:* \n",
    "- Se utilizan algunas funciones que pertenecen al core y base de Julia, si no conoce o intuye su uso averigue sobre la función mediante `?<nombre_función>` o `methods(<nombre_función>)`.\n",
    "- Usar `test_convergencia = b` para la creación de formas biológicas.\n",
    "- Las variables rz, iz son las componentes real imaginaria del número complejo respectivamente, que define un punto de la región del plano complejo por analizar.\n",
    "- La variable i es el contador del número de iteraciones.\n",
    "- c y z representan números complejos.\n",
    "\n",
    "~~~julia\n",
    "1  Para rz = -2:0.3:2 Hacer ##Elección del rango puede ser diferente\t\n",
    "2  \t  Para iz = -2:0.3:2 Hacer ##Elección del rango puede ser diferente\t\n",
    "3\t\tz = complex(rz,iz)\n",
    "4\t\t##La precisión de la imagen es mejor si incrementa las iteraciones\n",
    "5\t\tPara i = 1:30 \n",
    "6\t\t\tz = f(z) + c\n",
    "7\t\t\t##Se verfica que z = complex(rz,iz) esté en el conjunto\n",
    "8\t\t\t##T depende del conjunto que se desea graficar\n",
    "9\t\t\tSi abs(z) > T Entonces break Fin \n",
    "10\t   \tFin\n",
    "11\t\tcolor = i ##Indica la velocidad de divergencia de la orbita\n",
    "12\t\tSi test_convergencia = a Entonces \n",
    "13\t\t\tGraficar punto en (rz,iz,color) \n",
    "14\t\tFin\n",
    "15\t\tSi test_convergencia = b Entonces \n",
    "16\t\t\tSi real(z) < T || imag(z) < T Entonces\n",
    "17\t\t\t\tGraficar punto en (rz,iz,color) \n",
    "18\t\t\tFin\n",
    "19\t\tFin\n",
    "20\t  Fin\n",
    "21  Fin\n",
    "~~~\n",
    "\n"
   ]
  },
  {
   "cell_type": "markdown",
   "metadata": {},
   "source": [
    "\n",
    "## Solución\n",
    "\n"
   ]
  },
  {
   "cell_type": "markdown",
   "metadata": {},
   "source": [
    "\n",
    "La solución del problema planteado puede seguir un camino diferente, pero siempre basado en el algoritmo proporcionado. Para completar la parte obligatoria de este proyecto rellene las partes que están incompletas de este documento, tome en cuenta la signatura de las funciones descritas y lo que esta debe hacer. A medida avance en el documento haga uso de las definiciones previas donde sea conveniente.\n",
    "\n"
   ]
  },
  {
   "cell_type": "markdown",
   "metadata": {},
   "source": [
    "\n",
    "### Definición de objetos y funciones\n",
    "\n"
   ]
  },
  {
   "cell_type": "markdown",
   "metadata": {},
   "source": [
    "\n",
    "+ A continuación construya un struct `Grid` (Grilla), donde se defina la región del plano complejo que debe ser analizado (límites en las abcisas y ordenadas) y el espacio entre cada punto de la grilla."
   ]
  },
  {
   "cell_type": "code",
   "execution_count": null,
   "metadata": {},
   "outputs": [],
   "source": [
    "struct Grid{T<:Real}\n",
    "    #Valor mínimo de la grilla\n",
    "\tmin::T\n",
    "    #Valor máximo de la grilla\n",
    "    max::T\n",
    "    #Espacion entre cada valor\n",
    "    delta::T \n",
    "end"
   ]
  },
  {
   "cell_type": "markdown",
   "metadata": {},
   "source": [
    "\n",
    "+ Defina una función que cree una matriz de rangos para los ejes de las abcisas y ordenas. \n",
    "\n"
   ]
  },
  {
   "cell_type": "code",
   "execution_count": null,
   "metadata": {},
   "outputs": [],
   "source": [
    "function makeGrid(g::Grid)\n",
    "    #Creacion de los valores consecutivos\n",
    "\tvalues=g.min:g.delta:g.max\n",
    "    #Tamaño del vector de valores\n",
    "    len=size(values)[1]\n",
    "    #Matriz de ceros de tamaño nxn\n",
    "    matrix=zeros(Complex,len,len)\n",
    "    for i in 1:len\n",
    "        for j in 1:len\n",
    "            #LLenado de los valores de la matriz en forma compleja\n",
    "            matrix[i,j]=values[i]+values[j]*im\n",
    "        end\n",
    "    end\n",
    "    return matrix\n",
    "end"
   ]
  },
  {
   "cell_type": "markdown",
   "metadata": {},
   "source": [
    "\n",
    "+ Defina funciones de una línea para las formas biológicas y la familia de polinomios cuadráticos complejos \n",
    "\n"
   ]
  },
  {
   "cell_type": "code",
   "execution_count": null,
   "metadata": {},
   "outputs": [],
   "source": [
    "begin\n",
    "    #Función de Julia y Mandelbrot\n",
    "    f(z,c)=z^2+c\n",
    "    #Función biologica\n",
    "    f_bio(z,c)=sin(z)+z^2+c\n",
    "end"
   ]
  },
  {
   "cell_type": "markdown",
   "metadata": {},
   "source": [
    "\n",
    "+ Defina una función que retorne `true` si el criterio de convergencia para los conjuntos $J_{_c}$ y $M_{f_c}$ se cumple, `false` en caso contrario.\n",
    "\n"
   ]
  },
  {
   "cell_type": "code",
   "execution_count": null,
   "metadata": {},
   "outputs": [],
   "source": [
    "function testJM(z::Complex)\n",
    "    #Se supone que es falso\n",
    "\tvar=false\n",
    "    if abs(z)<2 \n",
    "        #Se guarda que resulto cierta la expresión\n",
    "        var=true\n",
    "        end \n",
    "    return var\n",
    "end"
   ]
  },
  {
   "cell_type": "markdown",
   "metadata": {},
   "source": [
    "\n",
    "+ Defina una función que `true` si el criterio de convergencia para las formas biológicas se cumple, `false` en caso contrario.\n",
    "\n"
   ]
  },
  {
   "cell_type": "code",
   "execution_count": null,
   "metadata": {},
   "outputs": [],
   "source": [
    "function testbiomorph(z::Complex,tau::Integer)\n",
    "    #Se supone que es falsa\n",
    "\tvar=false\n",
    "    if real(z)<tau || imag(z)<tau\n",
    "        #Se comprueba que era verdadera\n",
    "        var=true\n",
    "    end\n",
    "    return var\n",
    "end"
   ]
  },
  {
   "cell_type": "markdown",
   "metadata": {},
   "source": [
    "\n",
    "+ Defina una función que itere un número sobre una función $f_c$ y devuelva true si se cumple el criterio de divergencia para $J_{f_c}$, $M_{f_c}$ y formas biológicas\n",
    "\n"
   ]
  },
  {
   "cell_type": "code",
   "execution_count": null,
   "metadata": {},
   "outputs": [],
   "source": [
    "function iterate(test::Function,f::Function,z::Complex,iter::Integer,c::Comple\n",
    "    # Inicio del ciclo para aplicar seguidamente la funcion f\n",
    "for i in 1:iter\n",
    "    z=f(z,c)\n",
    "end\n",
    "return test(z)\n",
    "end"
   ]
  },
  {
   "cell_type": "markdown",
   "metadata": {},
   "source": [
    "Defina un función que devuelva el número de iteraciones realizadas para un dado z (número complejo), hasta que se no se cumple el criterio de divergencia."
   ]
  },
  {
   "cell_type": "code",
   "execution_count": null,
   "metadata": {},
   "outputs": [],
   "source": [
    "function colormap(f::Function,test::Function,z::Complex,c::Complex,iter::Integer)\n",
    "    #Variable para que el ciclo while inicie\n",
    "    var=true\n",
    "    #Conteo \n",
    "    k=0\n",
    "    #Se le impuso un maximo de iteracciones que esta dado por la variable iter\n",
    "    while var && k<iter\n",
    "        z=f(z,c)\n",
    "        #Si es falso detendra el ciclo\n",
    "        var=test(z)\n",
    "        if var\n",
    "            #Suma del conteo si esta dentro del criterio\n",
    "            k+=1\n",
    "            end \n",
    "        end \n",
    "    return k\n",
    "end"
   ]
  },
  {
   "cell_type": "markdown",
   "metadata": {},
   "source": [
    "+ Usando multiple dispatch, defina nuevamente la función colormap agregando un nuevo parámetro de entrada $\\tau$, de modo que se pueda usar el test de convergencia para la forma biológica\n"
   ]
  },
  {
   "cell_type": "code",
   "execution_count": null,
   "metadata": {},
   "outputs": [],
   "source": [
    "function colormap(f::Function,test::Function,z::Complex,c::Complex,iter::Integer,tau::Real)\n",
    "    #Variable para iniciar el ciclo\n",
    "\tvar=true\n",
    "    #Conteo\n",
    "    k=0\n",
    "    #Se le impuso un maximo de repeticiones que esta dado por la variable iter\n",
    "    while var && k<iter\n",
    "        z=f(z,c)\n",
    "        var=test(z,tau)\n",
    "        #Si es falsa se dentendra el conteo\n",
    "        if var\n",
    "            #Suma del conteo si cumple con el criterio\n",
    "            k+=1\n",
    "            end \n",
    "        end \n",
    "    return k\n",
    "end"
   ]
  },
  {
   "cell_type": "markdown",
   "metadata": {},
   "source": [
    "\n",
    "#### Solución a los incisos\n",
    "\n"
   ]
  },
  {
   "cell_type": "markdown",
   "metadata": {},
   "source": [
    "\n",
    "Usando las definiciones anteriores realice lo indicado.\n",
    "\n"
   ]
  },
  {
   "cell_type": "markdown",
   "metadata": {},
   "source": [
    "\n",
    "##### 1) Graficar un conjunto de Julia, para un $c$ arbitrario (monocromático).\n",
    "\n"
   ]
  },
  {
   "cell_type": "markdown",
   "metadata": {},
   "source": [
    "\n",
    "+ Defina una funcion que retorne el conjunto de puntos que pertenecen al conjunto de Julia.\n",
    "\n"
   ]
  },
  {
   "cell_type": "markdown",
   "metadata": {},
   "source": [
    "El inicio de esta función es generar una matriz de ceros, los cuales tendrás la siguiente representación \n",
    "+ 0 :  No esta contenido en $J_c$\n",
    "+ 1 :  Esta en $J_c$\n",
    "\n",
    "En seguida se hara un ciclo doble el cual recorrerá cada elemento de la matriz, para asi verificar si el elemento $\\text{grid}_{i,j} \\in J_c$, al termino de esta función se retornara la matriz de 0 y 1."
   ]
  },
  {
   "cell_type": "code",
   "execution_count": null,
   "metadata": {},
   "outputs": [],
   "source": [
    "function setjulia(\n",
    "\t\tf::Function,\n",
    "\t\ttest::Function,\n",
    "\t\tgrid::Array{T,2} where T,\n",
    "\t\tc::Complex,\n",
    "\t\titer::Integer)\n",
    "    #Inicio del mapa de valores\n",
    "    map=zeros(size(grid,1),size(grid,2))\n",
    "\tfor i in 1:size(grid,1)\n",
    "        for j in 1:size(grid,2)\n",
    "            #Conteo, para este caso iter siempre sera 1\n",
    "            var=iterate(test,f,grid[i,j],iter,c)\n",
    "            if var\n",
    "                map[i,j]=1\n",
    "            else\n",
    "                map[i,j]=0\n",
    "            end\n",
    "        end\n",
    "    end\n",
    "    return map\n",
    "end\n"
   ]
  },
  {
   "cell_type": "markdown",
   "metadata": {},
   "source": [
    "Pasos del algoritmo:\n",
    "\n",
    "+ Definir el objeto grid con los parámetros de la grilla, valor mínimo, máximo y separación entre cada valor\n",
    "+ Cración de la matriz con los valores de cada elemento complejo\n",
    "+ Obtención de los valores que estan dentro del conjunto $J_c$\n",
    "+ Gráfica de los valores dentro del conjunto $J_c$"
   ]
  },
  {
   "cell_type": "code",
   "execution_count": null,
   "metadata": {},
   "outputs": [],
   "source": [
    "begin\n",
    "grid=Grid(-1.5,1.5,0.01)\n",
    "matrix=makeGrid(grid)\n",
    "map=setjulia(f,testJM,matrix,0.1+0.7im,30)\n",
    "x=grid.min:grid.delta:grid.max\n",
    "heatmap(x,x,map,color=cgrad([:white,:black]))\n",
    "end\n"
   ]
  },
  {
   "cell_type": "markdown",
   "metadata": {},
   "source": [
    "\n",
    "#### 2) Graficar el conjunto de Mandelbrot (monocromático).\n",
    "\n"
   ]
  },
  {
   "cell_type": "markdown",
   "metadata": {},
   "source": [
    "\n",
    "+ Defina una funcion que retorne el conjunto de puntos que pertenecen al conjunto de Mandelbrot\n",
    "\n"
   ]
  },
  {
   "cell_type": "markdown",
   "metadata": {},
   "source": [
    "El inicio de esta función es generar una matriz de ceros, los cuales tendrás la siguiente representación \n",
    "+ 0 :  No esta contenido en $J_c$\n",
    "+ 1 :  Esta en $J_c$\n",
    "\n",
    "En seguida se hara un ciclo doble el cual recorrerá cada elemento de la matriz, para asi verificar si el elemento $\\text{grid}_{i,j} \\in J_c$, al termino de esta función se retornara la matriz de 0 y 1.\n",
    "\n",
    "La diferencia entre setjulia() y setmandelbrot() es que la constante c, en Julia es arbitraria y en Mandelbrot es igual a 0"
   ]
  },
  {
   "cell_type": "code",
   "execution_count": null,
   "metadata": {},
   "outputs": [],
   "source": [
    "function setmandelbrot(\n",
    "\t\tf::Function,\n",
    "\t\ttest::Function,\n",
    "\t\tgrid::Array{T,2} where T,\n",
    "\t\titer::Integer)\n",
    "    #Requerimiento de Mandelbrot, debe ser un 0 pero complejo, requerimiento del código\n",
    "    c=0+0im\n",
    "    #Inicio del mapa de valores\n",
    "    map=zeros(size(grid,1),size(grid,2))\n",
    "\tfor i in 1:size(grid,1)\n",
    "        for j in 1:size(grid,2)\n",
    "            #Aplicar varias veces la función f y obtener un verdadero o \n",
    "            #falso marcando si esta dentro del conjunto\n",
    "            var=iterate(test,f,grid[i,j],iter,c)\n",
    "            if var\n",
    "                #Marcado como 1 si esta en el conjunto\n",
    "                map[i,j]=1\n",
    "            else\n",
    "                #Marcado como 2 si no esta en el conjunto\n",
    "                map[i,j]=0\n",
    "            end\n",
    "        end\n",
    "    end\n",
    "    return map\n",
    "end"
   ]
  },
  {
   "cell_type": "code",
   "execution_count": null,
   "metadata": {},
   "outputs": [],
   "source": [
    "begin\n",
    "    grid=Grid(-1.5,1.5,0.01)\n",
    "    matrix=makeGrid(grid)\n",
    "    map=setmandelbrot(f,testJM,matrix,1)\n",
    "    x=grid.min:grid.delta:grid.max\n",
    "    heatmap(x,x,map,color=cgrad([:white,:black]))\n",
    "end\n"
   ]
  },
  {
   "cell_type": "markdown",
   "metadata": {},
   "source": [
    "\n",
    "#### 3) Graficar una forma biológica, par un c arbitrario (monocromático).\n",
    "\n"
   ]
  },
  {
   "cell_type": "markdown",
   "metadata": {},
   "source": [
    "\n",
    "+ Defina una funcion que retorne el conjunto de puntos que pertenecen al conjunto de una forma biológica.\n",
    "\n"
   ]
  },
  {
   "cell_type": "markdown",
   "metadata": {},
   "source": [
    "Para este caso, al ya existir una funcion iterate la cual no tiene definida como parametro de entrada $\\tau$ se creara otra funcion con el mismo nombre en donde se implemente multiple dispatch"
   ]
  },
  {
   "cell_type": "code",
   "execution_count": null,
   "metadata": {},
   "outputs": [],
   "source": [
    "function iterate(test::Function,f::Function,z::Complex,iter::Integer,c::Complex,tau::Integer)\n",
    "    # Aplica la funcion f una serie de veces\n",
    "for i in 1:iter\n",
    "    z=f(z,c)\n",
    "end\n",
    "return test(z,tau)\n",
    "end"
   ]
  },
  {
   "cell_type": "code",
   "execution_count": null,
   "metadata": {},
   "outputs": [],
   "source": [
    "function setbiomorph(\n",
    "\t\tf::Function,\n",
    "\t\ttest::Function,\n",
    "\t\tgrid::Array{T,2} where T,\n",
    "\t\tc::Complex,\n",
    "\t\titer::Integer,\n",
    "\t\ttau::Integer)\n",
    "    #Inicio del mapa de valores\n",
    "    map=zeros(size(grid,1),size(grid,2))\n",
    "\tfor i in 1:size(grid,1)\n",
    "        for j in 1:size(grid,2)\n",
    "            #Aplicar varias veces la función f y obtener un verdadero o \n",
    "            #falso marcando si esta dentro del conjunto\n",
    "            var=iterate(test,f,grid[i,j],iter,c,tau)\n",
    "            if var\n",
    "                # Marcado como 1 si esta dentro del conjunto\n",
    "                map[i,j]=1\n",
    "            else\n",
    "                # Marcado como 0 si no esta dentro del conjunto\n",
    "                map[i,j]=0\n",
    "            end\n",
    "        end\n",
    "    end\n",
    "    return map\n",
    "end\n"
   ]
  },
  {
   "cell_type": "code",
   "execution_count": null,
   "metadata": {},
   "outputs": [],
   "source": [
    "begin\n",
    "    #Creacion del objeto con parametros\n",
    "    grid=Grid(-50,50,1)\n",
    "    #Creacion de la matriz con los valores\n",
    "    matrix=makeGrid(grid)\n",
    "    #Mapa de seleccion, si esta dentro del conjunto o no\n",
    "    map=setbiomorph(f_bio,testbiomorph,matrix,0.1+0.7im,1,1)\n",
    "    #Dimensiones de la grafica\n",
    "    x=grid.min:grid.delta:grid.max\n",
    "    #Impresion de la grafica\n",
    "    heatmap(x,x,map,color=cgrad([:white,:black]))\n",
    "end"
   ]
  },
  {
   "cell_type": "markdown",
   "metadata": {},
   "source": [
    "\n",
    "#### 4) Hacer una gráfica a color del conjunto de Mandelbrot \n",
    "\n",
    "Usando el algoritmo de Tiempo de Escape y multiple dispatch, defina nuevamente la función setmandelbrot, para obtener los datos necesarios (matriz) que defina los colores para cada punto de una región arbitraria. \n",
    "\n"
   ]
  },
  {
   "cell_type": "code",
   "execution_count": null,
   "metadata": {},
   "outputs": [],
   "source": [
    "function setmandelbrot(\n",
    "\t\tf::Function,\n",
    "\t\ttest::Function,\n",
    "\t\tgrid::Array{T,1} where T,\n",
    "\t\titer::Integer)\n",
    "    #Requerimiento de Mandelbrot\n",
    "    c=0+0im\n",
    "    #Inicio del mapa de valores\n",
    "    map=zeros(size(grid)[1],size(grid)[1])\n",
    "\tfor i in 1:size(grid)[1]\n",
    "        for j in 1:size(grid)[1]\n",
    "            #Introduccion de las veces que se itero hasta que dejo de estar dentro del \n",
    "            #conjunto o se alcazo el limite de iteraciones\n",
    "            map[i,j]=colormap(f,test,grid[i]+grid[j]*im,c,iter)\n",
    "        end\n",
    "    end\n",
    "    #Normalizacion de valores\n",
    "    max=maximum(map)\n",
    "    map=map/max\n",
    "    return map\n",
    "end\n"
   ]
  },
  {
   "cell_type": "code",
   "execution_count": null,
   "metadata": {},
   "outputs": [],
   "source": [
    "begin\n",
    "    grid=Grid(-1.5,1.5,0.01)\n",
    "    x=collect(grid.min:grid.delta:grid.max)\n",
    "    map=setmandelbrot(f,testJM,x,200)\n",
    "    heatmap(x,x,map,color=cgrad([:white,:blue,:black]))\n",
    "end"
   ]
  },
  {
   "cell_type": "markdown",
   "metadata": {},
   "source": [
    "\n",
    "#### 5) Realizar una gráfica a color para un conjunto de Julia, para un $c$ arbitrario.\n",
    "\n",
    "Usando el algoritmo de Tiempo de Escape y multiple dispatch, defina nuevamente la función setjulia, para obtener los datos necesarios (matriz) que defina los colores para cada punto de una región arbitraria. \n",
    "\n"
   ]
  },
  {
   "cell_type": "code",
   "execution_count": null,
   "metadata": {},
   "outputs": [],
   "source": [
    "function setjulia(\n",
    "\t\tf::Function,\n",
    "\t\ttest::Function,\n",
    "\t\tgrid::Array{T,1} where T,\n",
    "\t\titer::Integer,\n",
    "        c::Complex)\n",
    "    #Inicio del mapa de valores\n",
    "    map=zeros(size(grid)[1],size(grid)[1])\n",
    "\tfor i in 1:size(grid)[1]\n",
    "        for j in 1:size(grid)[1]\n",
    "            #Introduccion de las veces que se itero hasta que dejo de estar dentro del \n",
    "            #conjunto o se alcazo el limite de iteraciones\n",
    "            map[i,j]=colormap(f,test,grid[i]+grid[j]*im,c,iter)\n",
    "        end\n",
    "    end\n",
    "    #Normalizacion de los valores\n",
    "    max=maximum(map)\n",
    "    map=map/max\n",
    "    return map\n",
    "end"
   ]
  },
  {
   "cell_type": "code",
   "execution_count": null,
   "metadata": {},
   "outputs": [],
   "source": [
    "begin\n",
    "    grid=Grid(-1.5,1.5,0.01)\n",
    "    x=collect(grid.min:grid.delta:grid.max)\n",
    "    map=setjulia(f,testJM,x,200,0.4+0.8im)\n",
    "    heatmap(x,x,map,color=cgrad([:white,:blue,:black]))\n",
    "end"
   ]
  },
  {
   "cell_type": "markdown",
   "metadata": {},
   "source": [
    "\n",
    "#### 6) Realizar una gráfica a color para una forma biológica.\n",
    "\n",
    "Usando el algoritmo de Tiempo de Escape y multiple dispatch, defina nuevamente la función setbiomorph, para obtener los datos necesarios (matriz) que defina los colores para cada punto de una región arbitraria.\n",
    "\n"
   ]
  },
  {
   "cell_type": "code",
   "execution_count": null,
   "metadata": {},
   "outputs": [],
   "source": [
    "function setbiomorph(\n",
    "\t\tf::Function,\n",
    "\t\ttest::Function,\n",
    "\t\tgrid::Array{T,1} where T,\n",
    "\t\titer::Integer,\n",
    "        c::Complex,\n",
    "        tau::Integer)\n",
    "    #Inicio del mapa de valores\n",
    "    map=zeros(size(grid)[1],size(grid)[1])\n",
    "\tfor i in 1:size(grid)[1]\n",
    "        for j in 1:size(grid)[1]\n",
    "            #Introduccion de las veces que se itero hasta que dejo de estar dentro del \n",
    "            #conjunto o se alcazo el limite de iteraciones\n",
    "            map[i,j]=colormap(f,test,grid[i]+grid[j]*im,c,iter,tau)\n",
    "        end\n",
    "    end\n",
    "    #Normalizacion de los valores\n",
    "    max=maximum(map)\n",
    "    map=map/max\n",
    "    return map\n",
    "end"
   ]
  },
  {
   "cell_type": "code",
   "execution_count": null,
   "metadata": {},
   "outputs": [],
   "source": [
    "begin\n",
    "    grid=Grid(-1.5,1.5,0.01)\n",
    "    x=collect(grid.min:grid.delta:grid.max)\n",
    "    map=setbiomorph(f,testbiomorph,x,500,0.4+0.8im,100)\n",
    "    heatmap(x,x,map,color=cgrad([:white,:blue,:red,:black]))\n",
    "end"
   ]
  },
  {
   "cell_type": "markdown",
   "metadata": {},
   "source": [
    "\n",
    "#### 7) Completar un ejercicio que forma parte de los challenge problems.\n",
    "\n"
   ]
  },
  {
   "cell_type": "code",
   "execution_count": null,
   "metadata": {},
   "outputs": [],
   "source": []
  }
 ],
 "metadata": {
  "kernelspec": {
   "display_name": "Julia 1.4.1",
   "language": "julia",
   "name": "julia-1.4"
  },
  "language_info": {
   "file_extension": ".jl",
   "mimetype": "application/julia",
   "name": "julia",
   "version": "1.4.1"
  }
 },
 "nbformat": 4,
 "nbformat_minor": 2
}
